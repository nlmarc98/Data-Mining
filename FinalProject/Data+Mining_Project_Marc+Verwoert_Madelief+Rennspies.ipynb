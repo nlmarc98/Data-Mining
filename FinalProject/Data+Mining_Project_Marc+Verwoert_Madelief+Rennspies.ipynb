{
 "cells": [
  {
   "cell_type": "code",
   "execution_count": 114,
   "metadata": {},
   "outputs": [
    {
     "name": "stdout",
     "output_type": "stream",
     "text": [
      "     Sepal Length  Sepal Width  Petal Length  Petal Width            Type\n",
      "0             5.1          3.5           1.4          0.2     Iris-setosa\n",
      "1             4.9          3.0           1.4          0.2     Iris-setosa\n",
      "2             4.7          3.2           1.3          0.2     Iris-setosa\n",
      "3             4.6          3.1           1.5          0.2     Iris-setosa\n",
      "4             5.0          3.6           1.4          0.2     Iris-setosa\n",
      "5             5.4          3.9           1.7          0.4     Iris-setosa\n",
      "6             4.6          3.4           1.4          0.3     Iris-setosa\n",
      "7             5.0          3.4           1.5          0.2     Iris-setosa\n",
      "8             4.4          2.9           1.4          0.2     Iris-setosa\n",
      "9             4.9          3.1           1.5          0.1     Iris-setosa\n",
      "10            5.4          3.7           1.5          0.2     Iris-setosa\n",
      "11            4.8          3.4           1.6          0.2     Iris-setosa\n",
      "12            4.8          3.0           1.4          0.1     Iris-setosa\n",
      "13            4.3          3.0           1.1          0.1     Iris-setosa\n",
      "14            5.8          4.0           1.2          0.2     Iris-setosa\n",
      "15            5.7          4.4           1.5          0.4     Iris-setosa\n",
      "16            5.4          3.9           1.3          0.4     Iris-setosa\n",
      "17            5.1          3.5           1.4          0.3     Iris-setosa\n",
      "18            5.7          3.8           1.7          0.3     Iris-setosa\n",
      "19            5.1          3.8           1.5          0.3     Iris-setosa\n",
      "20            5.4          3.4           1.7          0.2     Iris-setosa\n",
      "21            5.1          3.7           1.5          0.4     Iris-setosa\n",
      "22            4.6          3.6           1.0          0.2     Iris-setosa\n",
      "23            5.1          3.3           1.7          0.5     Iris-setosa\n",
      "24            4.8          3.4           1.9          0.2     Iris-setosa\n",
      "25            5.0          3.0           1.6          0.2     Iris-setosa\n",
      "26            5.0          3.4           1.6          0.4     Iris-setosa\n",
      "27            5.2          3.5           1.5          0.2     Iris-setosa\n",
      "28            5.2          3.4           1.4          0.2     Iris-setosa\n",
      "29            4.7          3.2           1.6          0.2     Iris-setosa\n",
      "..            ...          ...           ...          ...             ...\n",
      "120           6.9          3.2           5.7          2.3  Iris-virginica\n",
      "121           5.6          2.8           4.9          2.0  Iris-virginica\n",
      "122           7.7          2.8           6.7          2.0  Iris-virginica\n",
      "123           6.3          2.7           4.9          1.8  Iris-virginica\n",
      "124           6.7          3.3           5.7          2.1  Iris-virginica\n",
      "125           7.2          3.2           6.0          1.8  Iris-virginica\n",
      "126           6.2          2.8           4.8          1.8  Iris-virginica\n",
      "127           6.1          3.0           4.9          1.8  Iris-virginica\n",
      "128           6.4          2.8           5.6          2.1  Iris-virginica\n",
      "129           7.2          3.0           5.8          1.6  Iris-virginica\n",
      "130           7.4          2.8           6.1          1.9  Iris-virginica\n",
      "131           7.9          3.8           6.4          2.0  Iris-virginica\n",
      "132           6.4          2.8           5.6          2.2  Iris-virginica\n",
      "133           6.3          2.8           5.1          1.5  Iris-virginica\n",
      "134           6.1          2.6           5.6          1.4  Iris-virginica\n",
      "135           7.7          3.0           6.1          2.3  Iris-virginica\n",
      "136           6.3          3.4           5.6          2.4  Iris-virginica\n",
      "137           6.4          3.1           5.5          1.8  Iris-virginica\n",
      "138           6.0          3.0           4.8          1.8  Iris-virginica\n",
      "139           6.9          3.1           5.4          2.1  Iris-virginica\n",
      "140           6.7          3.1           5.6          2.4  Iris-virginica\n",
      "141           6.9          3.1           5.1          2.3  Iris-virginica\n",
      "142           5.8          2.7           5.1          1.9  Iris-virginica\n",
      "143           6.8          3.2           5.9          2.3  Iris-virginica\n",
      "144           6.7          3.3           5.7          2.5  Iris-virginica\n",
      "145           6.7          3.0           5.2          2.3  Iris-virginica\n",
      "146           6.3          2.5           5.0          1.9  Iris-virginica\n",
      "147           6.5          3.0           5.2          2.0  Iris-virginica\n",
      "148           6.2          3.4           5.4          2.3  Iris-virginica\n",
      "149           5.9          3.0           5.1          1.8  Iris-virginica\n",
      "\n",
      "[150 rows x 5 columns]\n",
      "     Sepal Length  Sepal Width  Petal Length  Petal Width\n",
      "0             5.1          3.5           1.4          0.2\n",
      "1             4.9          3.0           1.4          0.2\n",
      "2             4.7          3.2           1.3          0.2\n",
      "3             4.6          3.1           1.5          0.2\n",
      "4             5.0          3.6           1.4          0.2\n",
      "5             5.4          3.9           1.7          0.4\n",
      "6             4.6          3.4           1.4          0.3\n",
      "7             5.0          3.4           1.5          0.2\n",
      "8             4.4          2.9           1.4          0.2\n",
      "9             4.9          3.1           1.5          0.1\n",
      "10            5.4          3.7           1.5          0.2\n",
      "11            4.8          3.4           1.6          0.2\n",
      "12            4.8          3.0           1.4          0.1\n",
      "13            4.3          3.0           1.1          0.1\n",
      "14            5.8          4.0           1.2          0.2\n",
      "15            5.7          4.4           1.5          0.4\n",
      "16            5.4          3.9           1.3          0.4\n",
      "17            5.1          3.5           1.4          0.3\n",
      "18            5.7          3.8           1.7          0.3\n",
      "19            5.1          3.8           1.5          0.3\n",
      "20            5.4          3.4           1.7          0.2\n",
      "21            5.1          3.7           1.5          0.4\n",
      "22            4.6          3.6           1.0          0.2\n",
      "23            5.1          3.3           1.7          0.5\n",
      "24            4.8          3.4           1.9          0.2\n",
      "25            5.0          3.0           1.6          0.2\n",
      "26            5.0          3.4           1.6          0.4\n",
      "27            5.2          3.5           1.5          0.2\n",
      "28            5.2          3.4           1.4          0.2\n",
      "29            4.7          3.2           1.6          0.2\n",
      "..            ...          ...           ...          ...\n",
      "120           6.9          3.2           5.7          2.3\n",
      "121           5.6          2.8           4.9          2.0\n",
      "122           7.7          2.8           6.7          2.0\n",
      "123           6.3          2.7           4.9          1.8\n",
      "124           6.7          3.3           5.7          2.1\n",
      "125           7.2          3.2           6.0          1.8\n",
      "126           6.2          2.8           4.8          1.8\n",
      "127           6.1          3.0           4.9          1.8\n",
      "128           6.4          2.8           5.6          2.1\n",
      "129           7.2          3.0           5.8          1.6\n",
      "130           7.4          2.8           6.1          1.9\n",
      "131           7.9          3.8           6.4          2.0\n",
      "132           6.4          2.8           5.6          2.2\n",
      "133           6.3          2.8           5.1          1.5\n",
      "134           6.1          2.6           5.6          1.4\n",
      "135           7.7          3.0           6.1          2.3\n",
      "136           6.3          3.4           5.6          2.4\n",
      "137           6.4          3.1           5.5          1.8\n",
      "138           6.0          3.0           4.8          1.8\n",
      "139           6.9          3.1           5.4          2.1\n",
      "140           6.7          3.1           5.6          2.4\n",
      "141           6.9          3.1           5.1          2.3\n",
      "142           5.8          2.7           5.1          1.9\n",
      "143           6.8          3.2           5.9          2.3\n",
      "144           6.7          3.3           5.7          2.5\n",
      "145           6.7          3.0           5.2          2.3\n",
      "146           6.3          2.5           5.0          1.9\n",
      "147           6.5          3.0           5.2          2.0\n",
      "148           6.2          3.4           5.4          2.3\n",
      "149           5.9          3.0           5.1          1.8\n",
      "\n",
      "[150 rows x 4 columns]\n",
      "0         Iris-setosa\n",
      "1         Iris-setosa\n",
      "2         Iris-setosa\n",
      "3         Iris-setosa\n",
      "4         Iris-setosa\n",
      "5         Iris-setosa\n",
      "6         Iris-setosa\n",
      "7         Iris-setosa\n",
      "8         Iris-setosa\n",
      "9         Iris-setosa\n",
      "10        Iris-setosa\n",
      "11        Iris-setosa\n",
      "12        Iris-setosa\n",
      "13        Iris-setosa\n",
      "14        Iris-setosa\n",
      "15        Iris-setosa\n",
      "16        Iris-setosa\n",
      "17        Iris-setosa\n",
      "18        Iris-setosa\n",
      "19        Iris-setosa\n",
      "20        Iris-setosa\n",
      "21        Iris-setosa\n",
      "22        Iris-setosa\n",
      "23        Iris-setosa\n",
      "24        Iris-setosa\n",
      "25        Iris-setosa\n",
      "26        Iris-setosa\n",
      "27        Iris-setosa\n",
      "28        Iris-setosa\n",
      "29        Iris-setosa\n",
      "            ...      \n",
      "120    Iris-virginica\n",
      "121    Iris-virginica\n",
      "122    Iris-virginica\n",
      "123    Iris-virginica\n",
      "124    Iris-virginica\n",
      "125    Iris-virginica\n",
      "126    Iris-virginica\n",
      "127    Iris-virginica\n",
      "128    Iris-virginica\n",
      "129    Iris-virginica\n",
      "130    Iris-virginica\n",
      "131    Iris-virginica\n",
      "132    Iris-virginica\n",
      "133    Iris-virginica\n",
      "134    Iris-virginica\n",
      "135    Iris-virginica\n",
      "136    Iris-virginica\n",
      "137    Iris-virginica\n",
      "138    Iris-virginica\n",
      "139    Iris-virginica\n",
      "140    Iris-virginica\n",
      "141    Iris-virginica\n",
      "142    Iris-virginica\n",
      "143    Iris-virginica\n",
      "144    Iris-virginica\n",
      "145    Iris-virginica\n",
      "146    Iris-virginica\n",
      "147    Iris-virginica\n",
      "148    Iris-virginica\n",
      "149    Iris-virginica\n",
      "Name: Type, Length: 150, dtype: object\n"
     ]
    }
   ],
   "source": [
    "import pandas as pd\n",
    "import numpy as np\n",
    "import matplotlib.pyplot as plt\n",
    "import matplotlib.pyplot as plt\n",
    "from sklearn.neighbors import KNeighborsClassifier\n",
    "from sklearn.metrics import classification_report\n",
    "from sklearn.metrics import accuracy_score\n",
    "def column(matrix, i):\n",
    "    return [row[i] for row in matrix]\n",
    "\n",
    "iris_data=pd.read_excel('Data/iris.xls', sep=';')\n",
    "print(iris_data)\n",
    "\n",
    "X = iris_data[['Sepal Length', 'Sepal Width', 'Petal Length', 'Petal Width']]\n",
    "y = iris_data['Type']\n",
    "\n",
    "print(X)\n",
    "print(y)\n",
    "\n"
   ]
  },
  {
   "cell_type": "code",
   "execution_count": 106,
   "metadata": {
    "collapsed": true
   },
   "outputs": [],
   "source": [
    "def plot_confusion_matrix(cm,y):\n",
    "    df_cm = pd.DataFrame(cm, index = [i+1 for i in np.unique(y)],\n",
    "                  columns = [i+1 for i in np.unique(y)])\n",
    "    plt.figure()\n",
    "    sn.heatmap(df_cm, annot=True)\n",
    "    plt.title('Confusion matrix')\n",
    "    plt.xlabel('Predicted class')\n",
    "    plt.ylabel('Actual class')\n",
    "    plt.show()"
   ]
  },
  {
   "cell_type": "code",
   "execution_count": 167,
   "metadata": {},
   "outputs": [
    {
     "name": "stdout",
     "output_type": "stream",
     "text": [
      "   |->1  Iris-setosa\n",
      "   |\n",
      "if Petal Width =< 0.800000011921: go to 1, else go to 2\n",
      "   |\n",
      "   |     |->4  iris-Virginica\n",
      "   |     |\n",
      "   |  |->3 then if Petal Length =< 4.94999980927: go to 4, else go to 5\n",
      "   |  |  |\n",
      "   |  |  |  |->6  Iris-versicolor\n",
      "   |  |  |  |\n",
      "   |  |  |->5 else if Petal Width =< 1.65000009537: go to 6, else go to 7\n",
      "   |  |     |\n",
      "   |  |     |->7  iris-Virginica\n",
      "   |  |\n",
      "   |->2 else if Petal Width =< 1.75: go to 3, else go to 8\n",
      "      |\n",
      "      |->8  Iris-versicolor\n",
      "<------------------>\n",
      "Tree Depth:  4\n"
     ]
    }
   ],
   "source": [
    "from sklearn import tree\n",
    "from sklearn.model_selection import train_test_split\n",
    "import treeprint\n",
    "\n",
    "X_train, X_test, y_train, y_test = train_test_split(X, y)\n",
    "dtc = tree.DecisionTreeClassifier()   \n",
    "\n",
    "dtc = dtc.fit(X_train,y_train)\n",
    "attributeNames = [u'Sepal Length', u'Sepal Width', u'Petal Length', u'Petal Width']\n",
    "classNames = [u'Iris-setosa', u'iris-Virginica', u'Iris-versicolor']\n",
    "treeprint.tree_print(dtc, attributeNames, classNames)\n",
    "\n"
   ]
  },
  {
   "cell_type": "code",
   "execution_count": 169,
   "metadata": {},
   "outputs": [
    {
     "name": "stdout",
     "output_type": "stream",
     "text": [
      "0.921052631579\n"
     ]
    }
   ],
   "source": [
    "acc0=dtc.score(X_test, y_test, sample_weight=None)\n",
    "print(acc0)\n"
   ]
  },
  {
   "cell_type": "code",
   "execution_count": 166,
   "metadata": {
    "scrolled": true
   },
   "outputs": [
    {
     "name": "stdout",
     "output_type": "stream",
     "text": [
      "[u'Iris-setosa' u'Iris-setosa' u'Iris-setosa' u'Iris-setosa' u'Iris-setosa'\n",
      " u'Iris-setosa' u'Iris-setosa' u'Iris-setosa' u'Iris-setosa' u'Iris-setosa'\n",
      " u'Iris-setosa' u'Iris-setosa' u'Iris-setosa' u'Iris-setosa' u'Iris-setosa'\n",
      " u'Iris-setosa' u'Iris-setosa' u'Iris-setosa' u'Iris-setosa' u'Iris-setosa'\n",
      " u'Iris-setosa' u'Iris-setosa' u'Iris-setosa' u'Iris-setosa' u'Iris-setosa'\n",
      " u'Iris-setosa' u'Iris-setosa' u'Iris-setosa' u'Iris-setosa' u'Iris-setosa'\n",
      " u'Iris-setosa' u'Iris-setosa' u'Iris-setosa' u'Iris-setosa' u'Iris-setosa'\n",
      " u'Iris-setosa' u'Iris-setosa' u'Iris-setosa' u'Iris-setosa' u'Iris-setosa'\n",
      " u'Iris-setosa' u'Iris-setosa' u'Iris-setosa' u'Iris-setosa' u'Iris-setosa'\n",
      " u'Iris-setosa' u'Iris-setosa' u'Iris-setosa' u'Iris-setosa' u'Iris-setosa'\n",
      " u'Iris-versicolor' u'Iris-versicolor' u'Iris-versicolor'\n",
      " u'Iris-versicolor' u'Iris-versicolor' u'Iris-versicolor'\n",
      " u'Iris-versicolor' u'Iris-versicolor' u'Iris-versicolor'\n",
      " u'Iris-versicolor' u'Iris-versicolor' u'Iris-versicolor'\n",
      " u'Iris-versicolor' u'Iris-versicolor' u'Iris-versicolor'\n",
      " u'Iris-versicolor' u'Iris-versicolor' u'Iris-versicolor'\n",
      " u'Iris-versicolor' u'Iris-versicolor' u'Iris-versicolor'\n",
      " u'Iris-versicolor' u'Iris-versicolor' u'Iris-versicolor'\n",
      " u'Iris-versicolor' u'Iris-versicolor' u'Iris-versicolor'\n",
      " u'Iris-versicolor' u'Iris-versicolor' u'Iris-versicolor'\n",
      " u'Iris-versicolor' u'Iris-versicolor' u'Iris-versicolor' u'Iris-virginica'\n",
      " u'Iris-versicolor' u'Iris-versicolor' u'Iris-versicolor'\n",
      " u'Iris-versicolor' u'Iris-versicolor' u'Iris-versicolor'\n",
      " u'Iris-versicolor' u'Iris-versicolor' u'Iris-versicolor'\n",
      " u'Iris-versicolor' u'Iris-versicolor' u'Iris-versicolor'\n",
      " u'Iris-versicolor' u'Iris-versicolor' u'Iris-versicolor'\n",
      " u'Iris-versicolor' u'Iris-virginica' u'Iris-virginica' u'Iris-virginica'\n",
      " u'Iris-virginica' u'Iris-virginica' u'Iris-virginica' u'Iris-versicolor'\n",
      " u'Iris-virginica' u'Iris-virginica' u'Iris-virginica' u'Iris-virginica'\n",
      " u'Iris-virginica' u'Iris-virginica' u'Iris-virginica' u'Iris-virginica'\n",
      " u'Iris-virginica' u'Iris-virginica' u'Iris-virginica' u'Iris-virginica'\n",
      " u'Iris-virginica' u'Iris-virginica' u'Iris-virginica' u'Iris-virginica'\n",
      " u'Iris-virginica' u'Iris-virginica' u'Iris-virginica' u'Iris-versicolor'\n",
      " u'Iris-virginica' u'Iris-virginica' u'Iris-virginica' u'Iris-virginica'\n",
      " u'Iris-virginica' u'Iris-virginica' u'Iris-versicolor' u'Iris-virginica'\n",
      " u'Iris-virginica' u'Iris-virginica' u'Iris-virginica' u'Iris-versicolor'\n",
      " u'Iris-virginica' u'Iris-virginica' u'Iris-virginica' u'Iris-virginica'\n",
      " u'Iris-virginica' u'Iris-virginica' u'Iris-virginica' u'Iris-virginica'\n",
      " u'Iris-virginica' u'Iris-virginica' u'Iris-virginica']\n",
      "                 precision    recall  f1-score   support\n",
      "\n",
      "    Iris-setosa       1.00      1.00      1.00        50\n",
      "Iris-versicolor       0.92      0.98      0.95        50\n",
      " Iris-virginica       0.98      0.92      0.95        50\n",
      "\n",
      "    avg / total       0.97      0.97      0.97       150\n",
      "\n",
      "('accuracy Iris Data=', 0.96666666666666667)\n"
     ]
    }
   ],
   "source": [
    "nb = 10 #neighBours\n",
    "dm = 2 #DistanceMeasure \n",
    "\n",
    "neigh = KNeighborsClassifier(n_neighbors=nb, p=dm)\n",
    "neigh.fit(X_train,y_train.ravel()) \n",
    "predX = neigh.predict(X)\n",
    "print(predX)\n",
    "\n",
    "print classification_report(y, predX)\n",
    "\n",
    "acc1= accuracy_score(y, predX)\n",
    "\n",
    "print('accuracy Iris Data=', acc1)\n",
    "\n",
    "error_rate1= 1- accuracy_score(y, predX)\n",
    "\n",
    "\n"
   ]
  },
  {
   "cell_type": "code",
   "execution_count": 191,
   "metadata": {},
   "outputs": [
    {
     "name": "stdout",
     "output_type": "stream",
     "text": [
      "0.956\n"
     ]
    }
   ],
   "source": [
    "from sklearn import svm\n",
    "clf = svm.SVC()\n",
    "prediction=clf.fit(X_train, y_train).predict(X)\n",
    "acc3=accuracy_score(y, prediction)\n",
    "print(acc3)"
   ]
  },
  {
   "cell_type": "code",
   "execution_count": 190,
   "metadata": {},
   "outputs": [
    {
     "name": "stdout",
     "output_type": "stream",
     "text": [
      "0.938\n"
     ]
    }
   ],
   "source": [
    "from sklearn.naive_bayes import GaussianNB\n",
    "gnb = GaussianNB()\n",
    "y_pred = gnb.fit(X_train, y_train).predict(X)\n",
    "acc4=accuracy_score(y, y_pred)\n",
    "print(acc4)\n"
   ]
  },
  {
   "cell_type": "code",
   "execution_count": 189,
   "metadata": {},
   "outputs": [
    {
     "name": "stdout",
     "output_type": "stream",
     "text": [
      "0.947\n"
     ]
    }
   ],
   "source": [
    "from sklearn.ensemble import RandomForestClassifier\n",
    "from sklearn.datasets import make_classification\n",
    "\n",
    "X_train, y_train = make_classification(n_samples=1000, n_features=4,n_informative=2, n_redundant=0, random_state=0, shuffle=False)\n",
    "clf = RandomForestClassifier(max_depth=2, random_state=0)\n",
    "predictionRFC=clf.fit(X_train, y_train).predict(X)\n",
    "acc5=accuracy_score(y, predictionRFC)\n",
    "print(acc5)"
   ]
  },
  {
   "cell_type": "code",
   "execution_count": 195,
   "metadata": {},
   "outputs": [
    {
     "name": "stdout",
     "output_type": "stream",
     "text": [
      "0.98\n"
     ]
    }
   ],
   "source": [
    "from sklearn.neural_network import MLPClassifier\n",
    "clf = MLPClassifier(solver='lbfgs', alpha=1e-5, hidden_layer_sizes=(15,), random_state=1)\n",
    "NN_prediction=clf.fit(X_train, y_train).predict(X)\n",
    "acc6=accuracy_score(y, NN_prediction)\n",
    "\n",
    "print(acc6)"
   ]
  },
  {
   "cell_type": "code",
   "execution_count": 209,
   "metadata": {},
   "outputs": [
    {
     "name": "stdout",
     "output_type": "stream",
     "text": [
      "0.983\n"
     ]
    }
   ],
   "source": [
    "from sklearn.ensemble import AdaBoostClassifier\n",
    "from sklearn.tree import DecisionTreeClassifier\n",
    "\n",
    "ABC_real = AdaBoostClassifier(n_estimators=100,  learning_rate=1)\n",
    "predictionABC=ABC_real.fit(X_train, y_train).predict(X)\n",
    "acc7=accuracy_score(y, predictionABC)\n",
    "print(acc7)"
   ]
  },
  {
   "cell_type": "code",
   "execution_count": null,
   "metadata": {
    "collapsed": true
   },
   "outputs": [],
   "source": []
  }
 ],
 "metadata": {
  "kernelspec": {
   "display_name": "Python 2",
   "language": "python",
   "name": "python2"
  },
  "language_info": {
   "codemirror_mode": {
    "name": "ipython",
    "version": 2
   },
   "file_extension": ".py",
   "mimetype": "text/x-python",
   "name": "python",
   "nbconvert_exporter": "python",
   "pygments_lexer": "ipython2",
   "version": "2.7.13"
  }
 },
 "nbformat": 4,
 "nbformat_minor": 2
}
